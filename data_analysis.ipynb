{
 "cells": [
  {
   "cell_type": "code",
   "execution_count": 11,
   "metadata": {
    "collapsed": false
   },
   "outputs": [
    {
     "name": "stdout",
     "output_type": "stream",
     "text": [
      "Loading data...\n"
     ]
    },
    {
     "name": "stdout",
     "output_type": "stream",
     "text": [
      "mean: 238, variance: 176\n{'whiskers': [<matplotlib.lines.Line2D object at 0x129745630>, <matplotlib.lines.Line2D object at 0x128c4c160>], 'caps': [<matplotlib.lines.Line2D object at 0x128c4c6d8>, <matplotlib.lines.Line2D object at 0x128c4ce48>], 'boxes': [<matplotlib.lines.Line2D object at 0x129745940>], 'medians': [<matplotlib.lines.Line2D object at 0x12e7f8b00>], 'fliers': [<matplotlib.lines.Line2D object at 0x12e7f8390>], 'means': []}\n"
     ]
    },
    {
     "data": {
      "image/png": "[encoded data removed]",
      "text/plain": [
       "<matplotlib.figure.Figure at 0x13461ff60>"
      ]
     },
     "metadata": {},
     "output_type": "display_data"
    }
   ],
   "source": [
    "import data_helpers\n",
    "import tensorflow as tf\n",
    "import numpy as np\n",
    "from tensorflow.contrib.keras.python.keras.datasets import imdb\n",
    "from cnn import CNN\n",
    "from matplotlib import pyplot\n",
    "\n",
    "# Load data\n",
    "print(\"Loading data...\")\n",
    "(x_train, y_train), (x_test, y_test) = imdb.load_data()\n",
    "result = [len(x) for x in x_train]\n",
    "print(\"mean: %d, variance: %d\" % (np.mean(result), np.sqrt(np.var(result))))\n",
    "r = pyplot.boxplot(result)\n",
    "print(r)\n",
    "pyplot.show()\n",
    "print('test')"
   ]
  },
  {
   "cell_type": "code",
   "execution_count": 13,
   "metadata": {},
   "outputs": [
    {
     "name": "stdout",
     "output_type": "stream",
     "text": [
      "Line2D(_line3)\n"
     ]
    }
   ],
   "source": [
    "print(r['caps'][0])"
   ]
  },
  {
   "cell_type": "code",
   "execution_count": null,
   "metadata": {},
   "outputs": [],
   "source": []
  }
 ],
 "metadata": {
  "kernelspec": {
   "display_name": "Python 2",
   "language": "python",
   "name": "python2"
  },
  "language_info": {
   "codemirror_mode": {
    "name": "ipython",
    "version": 2
   },
   "file_extension": ".py",
   "mimetype": "text/x-python",
   "name": "python",
   "nbconvert_exporter": "python",
   "pygments_lexer": "ipython2",
   "version": "2.7.6"
  }
 },
 "nbformat": 4,
 "nbformat_minor": 0
}
